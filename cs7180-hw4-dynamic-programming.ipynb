{
 "cells": [
  {
   "cell_type": "markdown",
   "metadata": {},
   "source": [
    "# Homework 4: Dynamic Programming\n",
    "\n",
    "In this assignment you will implement the *value iteration* algorithm and apply it to the Frozen Lake and Gambler's environments. "
   ]
  },
  {
   "cell_type": "code",
   "execution_count": 1,
   "metadata": {},
   "outputs": [],
   "source": [
    "import numpy as np\n",
    "import matplotlib.pyplot as plt\n",
    "from gym.envs.toy_text.frozen_lake import FrozenLakeEnv\n",
    "import os\n",
    "from scipy.stats.distributions import poisson"
   ]
  },
  {
   "cell_type": "markdown",
   "metadata": {},
   "source": [
    "### Excerise 1 (\\# Points):\n",
    "\n",
    "Implement value iteration for the gambler's problem, detailed below.\n",
    "\n",
    "#### Gambler's Environment\n",
    "\n",
    "This exercise uses the Gambler's Problem detailed in Example 4.3 in [SB](http://incompleteideas.net/book/the-book-2nd.html). The important details are described here:\n",
    "\n",
    "A gambler has the opportunity to make bets on the out comes of a sequence of coin flips. If the coin comes up as heads, he wins as many dollars as he has staked on that flip; if it is tails, he loses his stake. The game ends when the either the gambler reaches his goal of \\$100 or he loses all his money. On each flip, the gambler must decide how much of his capital to stake.\n",
    "\n",
    "The state-value function gives the probability of winning from each state. A policy is a mapping from the amount of capital to states. The optimal policy maximizes the probablitiy of reaching the goal. Let $p_h$ denote the probability of the coin coming up heads.\n",
    "\n",
    "* **State Space:** $s \\in \\{1, 2, ..., 100\\}$\n",
    "* **Action Space:** $a \\in \\{0, 1, ..., \\min(s, 100-s)\\}$\n",
    "* **Reward:** $\\begin{cases}\n",
    "                       +1 & s = 100 \\\\\n",
    "                       0 & otherwise\n",
    "               \\end{cases}$"
   ]
  },
  {
   "cell_type": "code",
   "execution_count": 2,
   "metadata": {},
   "outputs": [],
   "source": [
    "def PR(s, a, s_prime,p_h):\n",
    "    if s_prime == s+a:\n",
    "        return p_h, int(s_prime==100)\n",
    "    elif s_prime == s-a:\n",
    "        return 1-p_h, 0\n",
    "    else:\n",
    "        return 0, 0"
   ]
  },
  {
   "cell_type": "code",
   "execution_count": 3,
   "metadata": {},
   "outputs": [],
   "source": [
    "def plot(V, policy, iteration):\n",
    "    os.system(\"mkdir -p gambler_figures\")\n",
    "    \n",
    "    fig, axes = plt.subplots(1, 2)\n",
    "\n",
    "    ax = axes[0]\n",
    "    im = ax.plot(V)\n",
    "    ax.set_title('V')\n",
    "    \n",
    "    ax = axes[1]\n",
    "    im = ax.bar(range(101),policy)\n",
    "    ax.set_title('policy')\n",
    "    \n",
    "    plt.savefig('gambler_figures/result_iter_%02i.png' % iteration)\n",
    "\n",
    "    plt.clf()\n",
    "\n",
    "\n"
   ]
  },
  {
   "cell_type": "code",
   "execution_count": 11,
   "metadata": {},
   "outputs": [],
   "source": [
    "def gamblers_value_iteration(p_h, theta=1e-4, gamma=1.0):\n",
    "    \"\"\"\n",
    "    Args:\n",
    "        env: OpenAI Gym environment\n",
    "        theta: Threshold used to determine accuracy of estimation\n",
    "        gamma: Discount factor\n",
    "    Returns:\n",
    "        A tuple (policy, value function)\n",
    "    \"\"\"\n",
    "    V = np.zeros(101)\n",
    "    policy = np.zeros(101)\n",
    "    iteration=0\n",
    "    Delta = np.inf\n",
    "    p_h=p_h\n",
    "\n",
    "    while True:\n",
    "        iteration+=1\n",
    "        Delta = 0\n",
    "        for s in range(1,101):\n",
    "            if s==100:\n",
    "                break\n",
    "            v = V[s]\n",
    "            argmax_a = -np.inf\n",
    "            max_return = -np.inf\n",
    "            for a in range(0,min(s,100-s)+1):\n",
    "                value_sa = 0\n",
    "                for s_prime in [s-a, s+a]:\n",
    "                    P, R = PR(s,a,s_prime,p_h)\n",
    "                    value_sa += P * (R + gamma * V[s_prime])\n",
    "#                     print 'V[s_prime]:',V[s_prime]\n",
    "#                     print 'R:',R\n",
    "#                     print 'value_sa:',value_sa\n",
    "                if value_sa> max_return:\n",
    "                    max_return = value_sa\n",
    "                    argmax_a = a\n",
    "                # if expected_return == max_return:\n",
    "                #     argmax_a = np.random.choice([a, argmax_a])\n",
    "\n",
    "            V[s] = max_return\n",
    "            policy[s] = argmax_a\n",
    "            Delta = max(Delta, np.abs(v-V[s]))\n",
    "        if Delta<theta:\n",
    "            break\n",
    "    return policy, V"
   ]
  },
  {
   "cell_type": "markdown",
   "metadata": {},
   "source": [
    "#### Show your results in terms of the greedy policy as a function of state for your calculated value function. Your results should match those in Figure 4.3 from SB."
   ]
  },
  {
   "cell_type": "code",
   "execution_count": 12,
   "metadata": {},
   "outputs": [],
   "source": [
    "policy, V = gamblers_value_iteration(p_h=0.4, theta=1e-4, gamma=1.0)"
   ]
  },
  {
   "cell_type": "code",
   "execution_count": 13,
   "metadata": {},
   "outputs": [
    {
     "data": {
      "image/png": "[encoded data removed]",
      "text/plain": [
       "<Figure size 432x288 with 1 Axes>"
      ]
     },
     "metadata": {
      "needs_background": "light"
     },
     "output_type": "display_data"
    }
   ],
   "source": [
    "x = range(100)\n",
    "y = V[:100]\n",
    "plt.plot(x, y)\n",
    "plt.xlabel('Capital')\n",
    "plt.ylabel('Value Estimates')\n",
    "plt.title('Final Policy (action stake) vs State (Capital)')\n",
    "plt.show()"
   ]
  },
  {
   "cell_type": "code",
   "execution_count": 14,
   "metadata": {},
   "outputs": [
    {
     "data": {
      "image/png": "[encoded data removed]",
      "text/plain": [
       "<Figure size 432x288 with 1 Axes>"
      ]
     },
     "metadata": {
      "needs_background": "light"
     },
     "output_type": "display_data"
    }
   ],
   "source": [
    "x = range(101)\n",
    "y = policy\n",
    "plt.bar(x, y, align='center', alpha=0.5)\n",
    "plt.xlabel('Capital')\n",
    "plt.ylabel('Final policy (stake)')\n",
    "plt.title('Capital vs Final Policy')\n",
    "plt.show()"
   ]
  },
  {
   "cell_type": "markdown",
   "metadata": {},
   "source": [
    "### Excerise 2 (\\# Points):\n",
    "\n",
    "Implement value iteration for any arbritary Gym environemnt provided there is a perfect model of the environment as a MDP. In order for a OpenAI Gym environment to have this perfect model it must have nS, nA, and P as attributes.\n",
    "\n",
    "* **P:** Represents the transition probabilities of the environment. P[s][a] is the tuple (prob, next_state, reward, done)\n",
    "* **nS:** Number of states in the environment\n",
    "* **nA:** Number of actions in the environment\n",
    "\n",
    "Note that we have added a max iterations argument to this function. While this is not necessary, it ensures that we will never be stuck running forever due to a bad $\\theta$."
   ]
  },
  {
   "cell_type": "code",
   "execution_count": 76,
   "metadata": {},
   "outputs": [],
   "source": [
    "def gym_value_iteration(env, theta=1e-4, gamma=1.0, max_iterations=1000):\n",
    "    \"\"\"\n",
    "    Args:\n",
    "        env: OpenAI Gym environment which has P, nS, and nA as attributes\n",
    "        theta: Threshold used to determine accuracy of estimation\n",
    "        gamma: Discount factor\n",
    "        max_iterations: Maximum number of value iterations to run\n",
    "    Returns:\n",
    "        A tuple (policy, value function)\n",
    "    \"\"\"\n",
    "    \n",
    "    V = np.zeros(env.nS)\n",
    "    policy = np.zeros(env.nS)\n",
    "    iteration=0\n",
    "    while True:\n",
    "        iteration+=1\n",
    "        # Stopping condition\n",
    "        delta = 0\n",
    "        # Update each state...\n",
    "        for s in range(env.nS):\n",
    "            v = V[s]\n",
    "            argmax_a = -np.inf\n",
    "            max_return = -np.inf\n",
    "            for a in range(env.nA):\n",
    "                value_sa = 0\n",
    "                for prob, next_state, reward, done in env.P[s][a]:\n",
    "                    value_sa += prob * (reward + gamma * V[next_state])\n",
    "                if value_sa> max_return:\n",
    "                    max_return = value_sa\n",
    "                    argmax_a = a\n",
    "          \n",
    "            V[s] = max_return\n",
    "            policy[s] = argmax_a\n",
    "            # Calculate delta across all states seen so far\n",
    "            delta = max(delta, np.abs(v - V[s]))       \n",
    "        # Check if we can stop \n",
    "        if delta < theta:\n",
    "            break\n",
    "        elif iteration==max_iterations:\n",
    "            break\n",
    "    \n",
    "    \n",
    "    return policy, V"
   ]
  },
  {
   "cell_type": "markdown",
   "metadata": {},
   "source": [
    "#### Test your implementation on the Frozen Lake environment"
   ]
  },
  {
   "cell_type": "code",
   "execution_count": 81,
   "metadata": {},
   "outputs": [],
   "source": [
    "frozen_lake = FrozenLakeEnv()\n",
    "policy, V = gym_value_iteration(frozen_lake)\n",
    "expected_policy = np.array([0, 3, 3, 3, 0, 0, 0, 0, 3, 1, 0, 0, 0, 2, 1, 0])\n",
    "np.testing.assert_array_equal(policy, expected_policy)"
   ]
  }
 ],
 "metadata": {
  "kernelspec": {
   "display_name": "Python 3",
   "language": "python",
   "name": "python3"
  },
  "language_info": {
   "codemirror_mode": {
    "name": "ipython",
    "version": 3
   },
   "file_extension": ".py",
   "mimetype": "text/x-python",
   "name": "python",
   "nbconvert_exporter": "python",
   "pygments_lexer": "ipython3",
   "version": "3.6.4"
  }
 },
 "nbformat": 4,
 "nbformat_minor": 2
}
